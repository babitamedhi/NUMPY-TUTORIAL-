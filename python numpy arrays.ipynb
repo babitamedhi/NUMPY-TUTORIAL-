{
 "cells": [
  {
   "cell_type": "markdown",
   "id": "47f8383f-a052-4a93-9f24-8c516e795e51",
   "metadata": {},
   "source": [
    "##Python numpy Arrays\n",
    "\n",
    "Numpy\n",
    "Numpy is a general-purpose array_processing package.it provides a high performance multidimensional array object,and tools for working with these arrays .it is the fundamental package for for scientific computing with python.\n",
    "\n",
    "\n",
    "What is an Array\n",
    "an array is a data structure that stores values of same datatype.in python,This is the main difference between arrays and lists.While python lists can contain values corresponding to different data types ,arrays in python can only contain values corresponding to same data type.\n"
   ]
  },
  {
   "cell_type": "code",
   "execution_count": 63,
   "id": "28929649-d110-4049-92e0-f974a6baf2fb",
   "metadata": {},
   "outputs": [],
   "source": [
    "##import library\n",
    "import numpy as np #np is aliase"
   ]
  },
  {
   "cell_type": "code",
   "execution_count": 64,
   "id": "56ce4d43-caec-4635-ba41-e53559ca4e9e",
   "metadata": {},
   "outputs": [],
   "source": [
    "list=[1,2,3,4]"
   ]
  },
  {
   "cell_type": "code",
   "execution_count": 65,
   "id": "2cfff9ab-978e-4e8a-9b6e-fb6137587159",
   "metadata": {},
   "outputs": [],
   "source": [
    "arr=np.array(list) #list is convert to array\n"
   ]
  },
  {
   "cell_type": "markdown",
   "id": "9966ee66-cc78-4f23-ab10-5acb4e549549",
   "metadata": {},
   "source": [
    "The output of the above line is array([1, 2, 3, 4]) which is a single dimension array because it has one pair of square bracket.If there will there will more than one pair of square brackets than it will be Multidimensional array.\n"
   ]
  },
  {
   "cell_type": "code",
   "execution_count": 66,
   "id": "54b64e17-dd84-487a-adbe-21ac54524a11",
   "metadata": {},
   "outputs": [
    {
     "name": "stdout",
     "output_type": "stream",
     "text": [
      "[1 2 3 4]\n"
     ]
    }
   ],
   "source": [
    "print(arr)"
   ]
  },
  {
   "cell_type": "code",
   "execution_count": 67,
   "id": "5199e8a7-443d-4fe3-be2b-0337bd6398e4",
   "metadata": {},
   "outputs": [
    {
     "data": {
      "text/plain": [
       "numpy.ndarray"
      ]
     },
     "execution_count": 67,
     "metadata": {},
     "output_type": "execute_result"
    }
   ],
   "source": [
    "type(arr)"
   ]
  },
  {
   "cell_type": "code",
   "execution_count": 68,
   "id": "d9a49cdb-4d33-42ec-81f5-ab85bdf8ea7b",
   "metadata": {},
   "outputs": [],
   "source": [
    "list1=[1,2,3,4]\n",
    "list2=[2,3,4,5]\n",
    "list3=[3,4,5,6]\n"
   ]
  },
  {
   "cell_type": "code",
   "execution_count": 72,
   "id": "b79f2378-2fb9-4b55-bc84-c44655ba05b1",
   "metadata": {},
   "outputs": [],
   "source": [
    "arr1=np.array([list1,list2,list3])"
   ]
  },
  {
   "cell_type": "code",
   "execution_count": 74,
   "id": "0ad63d5a-6346-42b5-ac3b-5255e495c1a1",
   "metadata": {},
   "outputs": [
    {
     "data": {
      "text/plain": [
       "array([[1, 2, 3, 4],\n",
       "       [2, 3, 4, 5],\n",
       "       [3, 4, 5, 6]])"
      ]
     },
     "execution_count": 74,
     "metadata": {},
     "output_type": "execute_result"
    }
   ],
   "source": [
    "arr1"
   ]
  },
  {
   "cell_type": "code",
   "execution_count": 75,
   "id": "c2bac49c-1ec6-496a-9db4-5074b6f5071b",
   "metadata": {},
   "outputs": [
    {
     "data": {
      "text/plain": [
       "(3, 4)"
      ]
     },
     "execution_count": 75,
     "metadata": {},
     "output_type": "execute_result"
    }
   ],
   "source": [
    "arr1.shape"
   ]
  },
  {
   "cell_type": "code",
   "execution_count": 76,
   "id": "41edfc52-04a9-4cbe-a49c-c1788b05e3d9",
   "metadata": {},
   "outputs": [
    {
     "data": {
      "text/plain": [
       "(4,)"
      ]
     },
     "execution_count": 76,
     "metadata": {},
     "output_type": "execute_result"
    }
   ],
   "source": [
    "arr.shape"
   ]
  },
  {
   "cell_type": "code",
   "execution_count": 77,
   "id": "64802adb-c958-4cc2-b5f6-5b72a07c057f",
   "metadata": {},
   "outputs": [
    {
     "data": {
      "text/plain": [
       "array([1, 2, 3, 4])"
      ]
     },
     "execution_count": 77,
     "metadata": {},
     "output_type": "execute_result"
    }
   ],
   "source": [
    "arr"
   ]
  },
  {
   "cell_type": "code",
   "execution_count": 78,
   "id": "618bba2c-b6b5-4c0d-8521-64f1cd91490b",
   "metadata": {},
   "outputs": [
    {
     "data": {
      "text/plain": [
       "4"
      ]
     },
     "execution_count": 78,
     "metadata": {},
     "output_type": "execute_result"
    }
   ],
   "source": [
    "#indexing :    always starts with 0\n",
    "arr[3]"
   ]
  },
  {
   "cell_type": "code",
   "execution_count": 79,
   "id": "9af75ea8-56f1-4eec-bfe9-1683a8f7381c",
   "metadata": {},
   "outputs": [
    {
     "data": {
      "text/plain": [
       "4"
      ]
     },
     "execution_count": 79,
     "metadata": {},
     "output_type": "execute_result"
    }
   ],
   "source": [
    "arr[-1]"
   ]
  },
  {
   "cell_type": "code",
   "execution_count": 80,
   "id": "85215d6a-d1f7-41af-b446-77f1d97155f3",
   "metadata": {},
   "outputs": [
    {
     "data": {
      "text/plain": [
       "1"
      ]
     },
     "execution_count": 80,
     "metadata": {},
     "output_type": "execute_result"
    }
   ],
   "source": [
    "arr[0]"
   ]
  },
  {
   "cell_type": "code",
   "execution_count": 81,
   "id": "db874d5a-5d40-447b-babe-233387f77bf1",
   "metadata": {},
   "outputs": [
    {
     "data": {
      "text/plain": [
       "array([[1, 2, 3, 4],\n",
       "       [2, 3, 4, 5],\n",
       "       [3, 4, 5, 6]])"
      ]
     },
     "execution_count": 81,
     "metadata": {},
     "output_type": "execute_result"
    }
   ],
   "source": [
    "arr1"
   ]
  },
  {
   "cell_type": "code",
   "execution_count": 82,
   "id": "7d7def13-cd40-4332-a472-c9012f18fccb",
   "metadata": {},
   "outputs": [
    {
     "data": {
      "text/plain": [
       "1"
      ]
     },
     "execution_count": 82,
     "metadata": {},
     "output_type": "execute_result"
    }
   ],
   "source": [
    "arr1[0,0]"
   ]
  },
  {
   "cell_type": "code",
   "execution_count": 83,
   "id": "bd05c4a0-a229-43a7-9e3d-ea534e989768",
   "metadata": {},
   "outputs": [
    {
     "data": {
      "text/plain": [
       "6"
      ]
     },
     "execution_count": 83,
     "metadata": {},
     "output_type": "execute_result"
    }
   ],
   "source": [
    "arr1[2,3]"
   ]
  },
  {
   "cell_type": "code",
   "execution_count": 84,
   "id": "1388d4cb-cffb-4006-9839-171fe1daeb41",
   "metadata": {},
   "outputs": [
    {
     "data": {
      "text/plain": [
       "array([[1, 2, 3, 4]])"
      ]
     },
     "execution_count": 84,
     "metadata": {},
     "output_type": "execute_result"
    }
   ],
   "source": [
    "arr1[:1]"
   ]
  },
  {
   "cell_type": "code",
   "execution_count": 85,
   "id": "6a8fbf1f-a854-4dd8-b65f-7d5645831652",
   "metadata": {},
   "outputs": [
    {
     "data": {
      "text/plain": [
       "array([[1, 2, 3, 4],\n",
       "       [2, 3, 4, 5]])"
      ]
     },
     "execution_count": 85,
     "metadata": {},
     "output_type": "execute_result"
    }
   ],
   "source": [
    "arr1[:2]"
   ]
  },
  {
   "cell_type": "code",
   "execution_count": 86,
   "id": "35c71c96-b18d-463b-9198-74402f0ffff7",
   "metadata": {},
   "outputs": [],
   "source": [
    "arr[1]=10"
   ]
  },
  {
   "cell_type": "code",
   "execution_count": 87,
   "id": "d08363f8-692f-49e1-958b-dc7db182101a",
   "metadata": {},
   "outputs": [
    {
     "data": {
      "text/plain": [
       "array([ 1, 10,  3,  4])"
      ]
     },
     "execution_count": 87,
     "metadata": {},
     "output_type": "execute_result"
    }
   ],
   "source": [
    "arr"
   ]
  },
  {
   "cell_type": "code",
   "execution_count": 88,
   "id": "e7ee5576-e164-4ba1-af80-c64f36826dc1",
   "metadata": {},
   "outputs": [
    {
     "data": {
      "text/plain": [
       "array([10,  3,  4])"
      ]
     },
     "execution_count": 88,
     "metadata": {},
     "output_type": "execute_result"
    }
   ],
   "source": [
    "arr[1:]"
   ]
  },
  {
   "cell_type": "code",
   "execution_count": 89,
   "id": "13b82bde-a7ac-4dac-8265-ed9693ff7bf1",
   "metadata": {},
   "outputs": [
    {
     "data": {
      "text/plain": [
       "array([10,  3])"
      ]
     },
     "execution_count": 89,
     "metadata": {},
     "output_type": "execute_result"
    }
   ],
   "source": [
    "arr[1:3]\n"
   ]
  },
  {
   "cell_type": "code",
   "execution_count": 91,
   "id": "c64955a0-86cd-42aa-a3d5-819835f83dda",
   "metadata": {},
   "outputs": [
    {
     "data": {
      "text/plain": [
       "array([ 1, 10,  3])"
      ]
     },
     "execution_count": 91,
     "metadata": {},
     "output_type": "execute_result"
    }
   ],
   "source": [
    "arr[:-1]\n",
    "#remove last element means one element minus from the all elements"
   ]
  },
  {
   "cell_type": "code",
   "execution_count": 92,
   "id": "faa68a20-4f2b-473e-81dc-041ee610451a",
   "metadata": {},
   "outputs": [
    {
     "data": {
      "text/plain": [
       "array([ 4,  3, 10,  1])"
      ]
     },
     "execution_count": 92,
     "metadata": {},
     "output_type": "execute_result"
    }
   ],
   "source": [
    "arr[::-1]\n",
    "#double colon will reverse the element of the array"
   ]
  },
  {
   "cell_type": "code",
   "execution_count": 93,
   "id": "4e69ffa7-8351-4540-b5a8-45341c7321ab",
   "metadata": {},
   "outputs": [
    {
     "data": {
      "text/plain": [
       "array([ 4, 10])"
      ]
     },
     "execution_count": 93,
     "metadata": {},
     "output_type": "execute_result"
    }
   ],
   "source": [
    "arr[::-2]\n",
    "#from last elements jumps two steps and print"
   ]
  },
  {
   "cell_type": "code",
   "execution_count": 94,
   "id": "031e06d6-4eb4-4a83-8388-dd4bf15c2b93",
   "metadata": {},
   "outputs": [
    {
     "data": {
      "text/plain": [
       "array([ 1, 10,  3,  4])"
      ]
     },
     "execution_count": 94,
     "metadata": {},
     "output_type": "execute_result"
    }
   ],
   "source": [
    "arr[::]\n",
    "#prints all the elements"
   ]
  },
  {
   "cell_type": "code",
   "execution_count": 95,
   "id": "78965dd2-7356-4d03-a31a-ffe2ff91a141",
   "metadata": {},
   "outputs": [
    {
     "data": {
      "text/plain": [
       "array([[1, 2, 3, 4],\n",
       "       [2, 3, 4, 5],\n",
       "       [3, 4, 5, 6]])"
      ]
     },
     "execution_count": 95,
     "metadata": {},
     "output_type": "execute_result"
    }
   ],
   "source": [
    "arr1\n"
   ]
  },
  {
   "cell_type": "code",
   "execution_count": 98,
   "id": "27afad6b-d16f-442d-bff5-ff7dc9abc20e",
   "metadata": {},
   "outputs": [
    {
     "data": {
      "text/plain": [
       "array([2, 3, 4])"
      ]
     },
     "execution_count": 98,
     "metadata": {},
     "output_type": "execute_result"
    }
   ],
   "source": [
    "#indexing two dimensional array\n",
    "arr1[:,1]"
   ]
  },
  {
   "cell_type": "code",
   "execution_count": 103,
   "id": "8ca9629c-2fbf-43dd-8773-e0c147377412",
   "metadata": {},
   "outputs": [
    {
     "data": {
      "text/plain": [
       "array([[3, 4],\n",
       "       [4, 5]])"
      ]
     },
     "execution_count": 103,
     "metadata": {},
     "output_type": "execute_result"
    }
   ],
   "source": [
    "arr1[1:,1:3]"
   ]
  },
  {
   "cell_type": "code",
   "execution_count": 105,
   "id": "c9671c02-c8fa-4cf0-94f4-3993d05809a0",
   "metadata": {},
   "outputs": [
    {
     "data": {
      "text/plain": [
       "array([[4, 5],\n",
       "       [5, 6]])"
      ]
     },
     "execution_count": 105,
     "metadata": {},
     "output_type": "execute_result"
    }
   ],
   "source": [
    "arr1[1:,2:]"
   ]
  },
  {
   "cell_type": "code",
   "execution_count": 106,
   "id": "966519cb-694c-4556-aa85-ec5573e48b78",
   "metadata": {},
   "outputs": [
    {
     "data": {
      "text/plain": [
       "array([[3, 4],\n",
       "       [4, 5],\n",
       "       [5, 6]])"
      ]
     },
     "execution_count": 106,
     "metadata": {},
     "output_type": "execute_result"
    }
   ],
   "source": [
    "arr1[0:,2:]"
   ]
  },
  {
   "cell_type": "code",
   "execution_count": 107,
   "id": "5e080708-eea2-4bab-b20a-28364c212713",
   "metadata": {},
   "outputs": [
    {
     "data": {
      "text/plain": [
       "(3, 2)"
      ]
     },
     "execution_count": 107,
     "metadata": {},
     "output_type": "execute_result"
    }
   ],
   "source": [
    "arr1[0:,2:].shape"
   ]
  },
  {
   "cell_type": "code",
   "execution_count": 108,
   "id": "20ef0a9f-e8ce-4b3a-b8af-81a2214db479",
   "metadata": {},
   "outputs": [
    {
     "data": {
      "text/plain": [
       "array([[1, 2, 3],\n",
       "       [2, 3, 4],\n",
       "       [3, 4, 5]])"
      ]
     },
     "execution_count": 108,
     "metadata": {},
     "output_type": "execute_result"
    }
   ],
   "source": [
    "arr1[:,0:3]"
   ]
  },
  {
   "cell_type": "code",
   "execution_count": 109,
   "id": "a67ca5ab-9c6c-4b6e-b92c-8d48bb9f5d8e",
   "metadata": {},
   "outputs": [
    {
     "data": {
      "text/plain": [
       "array([[1, 2, 3, 4],\n",
       "       [2, 3, 4, 5],\n",
       "       [3, 4, 5, 6]])"
      ]
     },
     "execution_count": 109,
     "metadata": {},
     "output_type": "execute_result"
    }
   ],
   "source": [
    "arr1"
   ]
  },
  {
   "cell_type": "code",
   "execution_count": 125,
   "id": "d46d3f50-ba18-4c4a-8395-936af8cf380b",
   "metadata": {},
   "outputs": [
    {
     "data": {
      "text/plain": [
       "array([[1, 4],\n",
       "       [2, 5],\n",
       "       [3, 6]])"
      ]
     },
     "execution_count": 125,
     "metadata": {},
     "output_type": "execute_result"
    }
   ],
   "source": [
    "arr1[:,0::3]\n",
    "#to retreive first and last column"
   ]
  },
  {
   "cell_type": "code",
   "execution_count": 126,
   "id": "f695e7bb-facf-4c38-a25c-585a87a36e0d",
   "metadata": {},
   "outputs": [
    {
     "data": {
      "text/plain": [
       "array([[1, 3],\n",
       "       [2, 4],\n",
       "       [3, 5]])"
      ]
     },
     "execution_count": 126,
     "metadata": {},
     "output_type": "execute_result"
    }
   ],
   "source": [
    "arr1[:,0::2]"
   ]
  },
  {
   "cell_type": "code",
   "execution_count": 127,
   "id": "0f240f9e-fe19-4dd8-bbb3-7ce4877124d5",
   "metadata": {},
   "outputs": [
    {
     "data": {
      "text/plain": [
       "array([ 1, 10,  3,  4])"
      ]
     },
     "execution_count": 127,
     "metadata": {},
     "output_type": "execute_result"
    }
   ],
   "source": [
    "##EDA\n",
    "arr"
   ]
  },
  {
   "cell_type": "code",
   "execution_count": 128,
   "id": "77960590-e7c2-4a40-bcc8-1969d2c1e877",
   "metadata": {},
   "outputs": [
    {
     "data": {
      "text/plain": [
       "array([ True, False, False, False])"
      ]
     },
     "execution_count": 128,
     "metadata": {},
     "output_type": "execute_result"
    }
   ],
   "source": [
    "arr<2"
   ]
  },
  {
   "cell_type": "code",
   "execution_count": 129,
   "id": "04f10e15-994b-4a2b-8b39-a270078629c6",
   "metadata": {},
   "outputs": [
    {
     "data": {
      "text/plain": [
       "array([1])"
      ]
     },
     "execution_count": 129,
     "metadata": {},
     "output_type": "execute_result"
    }
   ],
   "source": [
    "arr[arr<2]\n",
    "#specific element with index"
   ]
  },
  {
   "cell_type": "code",
   "execution_count": 130,
   "id": "e041fff0-26ba-4982-be55-c623830e4f93",
   "metadata": {},
   "outputs": [
    {
     "data": {
      "text/plain": [
       "array([[1, 2, 3, 4],\n",
       "       [2, 3, 4, 5],\n",
       "       [3, 4, 5, 6]])"
      ]
     },
     "execution_count": 130,
     "metadata": {},
     "output_type": "execute_result"
    }
   ],
   "source": [
    "#reshape\n",
    "arr1"
   ]
  },
  {
   "cell_type": "code",
   "execution_count": 131,
   "id": "7cc333f2-f2c3-4ac3-b68d-e05ef3a0dd2f",
   "metadata": {},
   "outputs": [
    {
     "data": {
      "text/plain": [
       "array([[1, 2],\n",
       "       [3, 4],\n",
       "       [2, 3],\n",
       "       [4, 5],\n",
       "       [3, 4],\n",
       "       [5, 6]])"
      ]
     },
     "execution_count": 131,
     "metadata": {},
     "output_type": "execute_result"
    }
   ],
   "source": [
    "arr1.reshape(6,2)"
   ]
  },
  {
   "cell_type": "code",
   "execution_count": 132,
   "id": "a642a95a-4ec2-4f36-a151-1a4e63c4fd1f",
   "metadata": {},
   "outputs": [
    {
     "data": {
      "text/plain": [
       "array([[1],\n",
       "       [2],\n",
       "       [3],\n",
       "       [4],\n",
       "       [2],\n",
       "       [3],\n",
       "       [4],\n",
       "       [5],\n",
       "       [3],\n",
       "       [4],\n",
       "       [5],\n",
       "       [6]])"
      ]
     },
     "execution_count": 132,
     "metadata": {},
     "output_type": "execute_result"
    }
   ],
   "source": [
    "arr1.reshape(12,1)\n"
   ]
  },
  {
   "cell_type": "code",
   "execution_count": 133,
   "id": "b5cca2c7-d614-4672-bee5-e911a3b63583",
   "metadata": {},
   "outputs": [
    {
     "data": {
      "text/plain": [
       "array([[1, 2, 3],\n",
       "       [4, 2, 3],\n",
       "       [4, 5, 3],\n",
       "       [4, 5, 6]])"
      ]
     },
     "execution_count": 133,
     "metadata": {},
     "output_type": "execute_result"
    }
   ],
   "source": [
    "arr1.reshape(4,3)"
   ]
  },
  {
   "cell_type": "code",
   "execution_count": 137,
   "id": "202a5471-91dc-4cfd-aa5a-1e962b78f497",
   "metadata": {},
   "outputs": [
    {
     "data": {
      "text/plain": [
       "array([1, 2, 3, 4, 5, 6, 7, 8, 9])"
      ]
     },
     "execution_count": 137,
     "metadata": {},
     "output_type": "execute_result"
    }
   ],
   "source": [
    "##mechanism to create an array\n",
    "np.arange(1,10,1)"
   ]
  },
  {
   "cell_type": "code",
   "execution_count": 138,
   "id": "fe0796ff-717f-4f66-b230-90a8068dd2cf",
   "metadata": {},
   "outputs": [
    {
     "data": {
      "text/plain": [
       "array([1, 3, 5, 7, 9])"
      ]
     },
     "execution_count": 138,
     "metadata": {},
     "output_type": "execute_result"
    }
   ],
   "source": [
    "np.arange(1,10,2)"
   ]
  },
  {
   "cell_type": "code",
   "execution_count": 139,
   "id": "c952855c-7b1f-4646-874b-4b701ba83899",
   "metadata": {},
   "outputs": [
    {
     "data": {
      "text/plain": [
       "array([[1, 2, 3],\n",
       "       [4, 5, 6],\n",
       "       [7, 8, 9]])"
      ]
     },
     "execution_count": 139,
     "metadata": {},
     "output_type": "execute_result"
    }
   ],
   "source": [
    "np.arange(1,10,1).reshape(3,3)"
   ]
  },
  {
   "cell_type": "code",
   "execution_count": 144,
   "id": "115c1aa2-33a1-4abb-a13e-71e6cd93c1e3",
   "metadata": {},
   "outputs": [
    {
     "data": {
      "text/plain": [
       "array([[[1],\n",
       "        [2],\n",
       "        [3],\n",
       "        [4],\n",
       "        [5],\n",
       "        [6],\n",
       "        [7],\n",
       "        [8],\n",
       "        [9]]])"
      ]
     },
     "execution_count": 144,
     "metadata": {},
     "output_type": "execute_result"
    }
   ],
   "source": [
    "np.arange(1,10,1).reshape(1,9,1)"
   ]
  },
  {
   "cell_type": "code",
   "execution_count": 145,
   "id": "bedd8212-8246-40bb-a44c-d5b477ef686a",
   "metadata": {},
   "outputs": [
    {
     "data": {
      "text/plain": [
       "array([[[ 1],\n",
       "        [ 2],\n",
       "        [ 3],\n",
       "        [ 4],\n",
       "        [ 5]],\n",
       "\n",
       "       [[ 6],\n",
       "        [ 7],\n",
       "        [ 8],\n",
       "        [ 9],\n",
       "        [10]]])"
      ]
     },
     "execution_count": 145,
     "metadata": {},
     "output_type": "execute_result"
    }
   ],
   "source": [
    "np.arange(1,11,1).reshape(2,5,1)"
   ]
  },
  {
   "cell_type": "code",
   "execution_count": 146,
   "id": "797e2b64-a006-4cd3-9756-1bd40edccdaa",
   "metadata": {},
   "outputs": [
    {
     "data": {
      "text/plain": [
       "array([ 1, 10,  3,  4])"
      ]
     },
     "execution_count": 146,
     "metadata": {},
     "output_type": "execute_result"
    }
   ],
   "source": [
    "##operations \n",
    "arr"
   ]
  },
  {
   "cell_type": "code",
   "execution_count": 147,
   "id": "0ea62ad6-8769-40a4-9034-610e878ba950",
   "metadata": {},
   "outputs": [
    {
     "data": {
      "text/plain": [
       "array([  1, 100,   9,  16])"
      ]
     },
     "execution_count": 147,
     "metadata": {},
     "output_type": "execute_result"
    }
   ],
   "source": [
    "arr*arr"
   ]
  },
  {
   "cell_type": "code",
   "execution_count": 148,
   "id": "e048050f-c299-4fd4-a0f4-3bc1d55f99b3",
   "metadata": {},
   "outputs": [
    {
     "data": {
      "text/plain": [
       "array([ 2, 20,  6,  8])"
      ]
     },
     "execution_count": 148,
     "metadata": {},
     "output_type": "execute_result"
    }
   ],
   "source": [
    "arr + arr"
   ]
  },
  {
   "cell_type": "code",
   "execution_count": 149,
   "id": "abd3f690-4030-40b1-8203-cc5677f4312a",
   "metadata": {},
   "outputs": [
    {
     "data": {
      "text/plain": [
       "array([[ 1, 20,  9, 16],\n",
       "       [ 2, 30, 12, 20],\n",
       "       [ 3, 40, 15, 24]])"
      ]
     },
     "execution_count": 149,
     "metadata": {},
     "output_type": "execute_result"
    }
   ],
   "source": [
    "arr1*arr"
   ]
  },
  {
   "cell_type": "code",
   "execution_count": 153,
   "id": "04ff607b-49d6-4f4d-96d4-d1d0a325c47a",
   "metadata": {},
   "outputs": [
    {
     "data": {
      "text/plain": [
       "array([[1., 1., 1.],\n",
       "       [1., 1., 1.]])"
      ]
     },
     "execution_count": 153,
     "metadata": {},
     "output_type": "execute_result"
    }
   ],
   "source": [
    "np.ones((2,3))"
   ]
  },
  {
   "cell_type": "code",
   "execution_count": 154,
   "id": "f0a8d1dd-04ee-4212-91e4-92596b3c1f03",
   "metadata": {},
   "outputs": [
    {
     "data": {
      "text/plain": [
       "array([[0., 0., 0.],\n",
       "       [0., 0., 0.]])"
      ]
     },
     "execution_count": 154,
     "metadata": {},
     "output_type": "execute_result"
    }
   ],
   "source": [
    "np.zeros((2,3))"
   ]
  },
  {
   "cell_type": "code",
   "execution_count": 156,
   "id": "38f986b6-d311-4764-8938-dc44b0788d1d",
   "metadata": {},
   "outputs": [
    {
     "data": {
      "text/plain": [
       "11"
      ]
     },
     "execution_count": 156,
     "metadata": {},
     "output_type": "execute_result"
    }
   ],
   "source": [
    "#random function\n",
    "np.random.randint(10,50)"
   ]
  },
  {
   "cell_type": "code",
   "execution_count": 157,
   "id": "848585f9-e59b-42be-8dd3-94dba360b9cc",
   "metadata": {},
   "outputs": [
    {
     "data": {
      "text/plain": [
       "array([26, 40, 36, 37])"
      ]
     },
     "execution_count": 157,
     "metadata": {},
     "output_type": "execute_result"
    }
   ],
   "source": [
    "np.random.randint(10,50,4)"
   ]
  },
  {
   "cell_type": "code",
   "execution_count": 158,
   "id": "9f939dde-6528-4ec7-891d-f70e9af0a23d",
   "metadata": {},
   "outputs": [
    {
     "data": {
      "text/plain": [
       "array([[39, 44],\n",
       "       [48, 29]])"
      ]
     },
     "execution_count": 158,
     "metadata": {},
     "output_type": "execute_result"
    }
   ],
   "source": [
    "np.random.randint(10,50,4).reshape(2,2)"
   ]
  },
  {
   "cell_type": "code",
   "execution_count": 159,
   "id": "5061f79c-f587-4393-b167-96a836a17c08",
   "metadata": {},
   "outputs": [
    {
     "data": {
      "text/plain": [
       "array([[-0.28664174,  0.20275862,  0.75187141,  2.41184465, -0.33905533,\n",
       "         0.31974334],\n",
       "       [ 1.20208301, -0.46659204, -0.31621076,  2.04807744, -0.2083526 ,\n",
       "         0.42799736],\n",
       "       [-1.54630078, -0.31089993, -1.28807825,  0.02925922,  0.13053997,\n",
       "         0.46689136],\n",
       "       [ 0.82418991,  0.33850138,  0.55827609, -1.26747049, -0.09988568,\n",
       "        -0.18257487],\n",
       "       [-0.53199804, -0.12953897, -0.36222624, -0.38437097,  0.73710729,\n",
       "        -0.62987423]])"
      ]
     },
     "execution_count": 159,
     "metadata": {},
     "output_type": "execute_result"
    }
   ],
   "source": [
    "#randomly intialiaze based on normal distribution\n",
    "np.random.randn(5,6)"
   ]
  },
  {
   "cell_type": "code",
   "execution_count": 161,
   "id": "fe4cb19f-6d04-4302-a532-f428075be924",
   "metadata": {},
   "outputs": [
    {
     "data": {
      "text/plain": [
       "array([[0.28849549, 0.60064059, 0.38674428, 0.19492618, 0.8071447 ,\n",
       "        0.17879448, 0.65015588],\n",
       "       [0.42716272, 0.77192564, 0.30188274, 0.1630019 , 0.61311381,\n",
       "        0.91653273, 0.59433479],\n",
       "       [0.02266276, 0.79838903, 0.67933112, 0.72565467, 0.9007468 ,\n",
       "        0.97650336, 0.98289372],\n",
       "       [0.87939941, 0.77700416, 0.5307927 , 0.57791129, 0.47921357,\n",
       "        0.16691807, 0.07602028]])"
      ]
     },
     "execution_count": 161,
     "metadata": {},
     "output_type": "execute_result"
    }
   ],
   "source": [
    "#random_sample \n",
    "#returns values from 0.0 to 1.0\n",
    "np.random.random_sample((4,7))\n"
   ]
  },
  {
   "cell_type": "code",
   "execution_count": null,
   "id": "7f0ded32-51d9-4a46-a4e9-c67f184637c3",
   "metadata": {},
   "outputs": [],
   "source": []
  }
 ],
 "metadata": {
  "kernelspec": {
   "display_name": "Python 3 (ipykernel)",
   "language": "python",
   "name": "python3"
  },
  "language_info": {
   "codemirror_mode": {
    "name": "ipython",
    "version": 3
   },
   "file_extension": ".py",
   "mimetype": "text/x-python",
   "name": "python",
   "nbconvert_exporter": "python",
   "pygments_lexer": "ipython3",
   "version": "3.11.3"
  }
 },
 "nbformat": 4,
 "nbformat_minor": 5
}
